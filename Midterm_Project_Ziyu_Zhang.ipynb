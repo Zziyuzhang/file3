{
  "nbformat": 4,
  "nbformat_minor": 0,
  "metadata": {
    "colab": {
      "provenance": [],
      "authorship_tag": "ABX9TyN1vbRZHuM83sGn//59WsBn",
      "include_colab_link": true
    },
    "kernelspec": {
      "name": "python3",
      "display_name": "Python 3"
    },
    "language_info": {
      "name": "python"
    }
  },
  "cells": [
    {
      "cell_type": "markdown",
      "metadata": {
        "id": "view-in-github",
        "colab_type": "text"
      },
      "source": [
        "<a href=\"https://colab.research.google.com/github/Zziyuzhang/file3/blob/main/Midterm_Project_Ziyu_Zhang.ipynb\" target=\"_parent\"><img src=\"https://colab.research.google.com/assets/colab-badge.svg\" alt=\"Open In Colab\"/></a>"
      ]
    },
    {
      "cell_type": "code",
      "execution_count": null,
      "metadata": {
        "id": "aj-D-pl7e9UN"
      },
      "outputs": [],
      "source": [
        "# import useful modules\n",
        "import numpy as np\n",
        "import pandas as pd"
      ]
    },
    {
      "cell_type": "code",
      "source": [],
      "metadata": {
        "id": "-j9k16-DWY2r"
      },
      "execution_count": null,
      "outputs": []
    },
    {
      "cell_type": "code",
      "source": [
        "# Connect my google drive\n",
        "from google.colab import drive\n",
        "drive.mount('/content/drive')"
      ],
      "metadata": {
        "colab": {
          "base_uri": "https://localhost:8080/"
        },
        "id": "mgT4Yf4KgYhS",
        "outputId": "0ff37035-b9d2-4812-b22a-da6766dcb893"
      },
      "execution_count": null,
      "outputs": [
        {
          "output_type": "stream",
          "name": "stdout",
          "text": [
            "Drive already mounted at /content/drive; to attempt to forcibly remount, call drive.mount(\"/content/drive\", force_remount=True).\n"
          ]
        }
      ]
    },
    {
      "cell_type": "markdown",
      "source": [
        "**Sheet 1 cleaning process**"
      ],
      "metadata": {
        "id": "AWXe4V2affEh"
      }
    },
    {
      "cell_type": "code",
      "source": [
        "UN_table1 = pd.read_excel('/content/drive/MyDrive/INF 1340/UN Dataset.xlsx', sheet_name=1) #load the first sheet"
      ],
      "metadata": {
        "id": "LPkxOsj6g-uD"
      },
      "execution_count": null,
      "outputs": []
    },
    {
      "cell_type": "code",
      "source": [
        "UN_table1 = UN_table1.drop(index = [0, 1, 2, 3, 4, 5, 6, 7, 8, 9, 10, 11, 12]) # drop those rows in the green title area"
      ],
      "metadata": {
        "id": "mXdVhXua4rsg"
      },
      "execution_count": null,
      "outputs": []
    },
    {
      "cell_type": "code",
      "source": [
        "UN_table1 = UN_table1.rename({'Unnamed: 0' : 'Sort/Order',\n",
        "                 'Unnamed: 1' : 'Major area, region, country or area of destination',\n",
        "                 'Unnamed: 2' : 'Notes',\n",
        "                 'Unnamed: 3' : 'Country Code',\n",
        "                 'Unnamed: 4' : 'Type of data (a)',\n",
        "                 'Unnamed: 5' : '(both sexes) (1990)',\n",
        "                 'Unnamed: 6' : '(both sexes) (1995)',\n",
        "                 'Unnamed: 7' : '(both sexes) (2000)',\n",
        "                 'Unnamed: 8' : '(both sexes) (2005)',\n",
        "                 'Unnamed: 9' : '(both sexes) (2010)',\n",
        "                 'Unnamed: 10': '(both sexes) (2015)',\n",
        "                 'Unnamed: 11': '(male) (1990)',\n",
        "                 'Unnamed: 12': '(male) (1995)',\n",
        "                 'Unnamed: 13': '(male) (2000)',\n",
        "                 'Unnamed: 14': '(male) (2005)',\n",
        "                 'Unnamed: 15': '(male) (2010)',\n",
        "                 'Unnamed: 16': '(male) (2015)',\n",
        "                 'Unnamed: 17': '(female) (1990)',\n",
        "                 'Unnamed: 18': '(female) (1995)',\n",
        "                 'Unnamed: 19': '(female) (2000)',\n",
        "                 'Unnamed: 20': '(female) (2005)',\n",
        "                 'Unnamed: 21': '(female) (2010)',\n",
        "                 'Unnamed: 22': '(female) (2015)'}, axis = 1) # Rename the column header to make it more clearer"
      ],
      "metadata": {
        "id": "1scqu7HCO-Vy"
      },
      "execution_count": null,
      "outputs": []
    },
    {
      "cell_type": "code",
      "source": [
        "#After the rename process, row 13 and row 14 are meaningless, drop them\n",
        "UN_table1.drop(index = [13, 14], inplace = True) # replace the old one"
      ],
      "metadata": {
        "id": "hL_9B8kfXsMR"
      },
      "execution_count": null,
      "outputs": []
    },
    {
      "cell_type": "code",
      "source": [
        "UN_table1 = UN_table1.fillna('') #Replace the NaN value with empty strings"
      ],
      "metadata": {
        "id": "RedbWFt_htSH"
      },
      "execution_count": null,
      "outputs": []
    },
    {
      "cell_type": "code",
      "source": [
        "UN_International_migrant_stock_both_sex = UN_table1.melt(id_vars = ['Sort/Order', 'Major area, region, country or area of destination', 'Notes', 'Country Code', 'Type of data (a)'],\n",
        "              value_vars = ['(both sexes) (1990)',\n",
        "                            '(both sexes) (1995)',\n",
        "                            '(both sexes) (2000)',\n",
        "                            '(both sexes) (2005)',\n",
        "                            '(both sexes) (2010)',\n",
        "                            '(both sexes) (2015)'],\n",
        "               var_name = 'Year',\n",
        "               value_name = 'International migrant stock') ## Use melt function to create a new database that only contain data of both sexes"
      ],
      "metadata": {
        "id": "CmddXvrniTTB"
      },
      "execution_count": null,
      "outputs": []
    },
    {
      "cell_type": "code",
      "source": [
        "UN_International_migrant_stock_male = UN_table1.melt(id_vars = ['Sort/Order', 'Major area, region, country or area of destination', 'Notes', 'Country Code', 'Type of data (a)'],\n",
        "              value_vars = ['(male) (1990)',\n",
        "                            '(male) (1995)',\n",
        "                            '(male) (2000)',\n",
        "                            '(male) (2005)',\n",
        "                            '(male) (2010)',\n",
        "                            '(male) (2015)'],\n",
        "               var_name = 'Year',\n",
        "               value_name = 'International migrant stock') ## Use melt function to create a new database that only contain data of male"
      ],
      "metadata": {
        "id": "Muoatajtre2v"
      },
      "execution_count": null,
      "outputs": []
    },
    {
      "cell_type": "code",
      "source": [
        "UN_International_migrant_stock_female = UN_table1.melt(id_vars = ['Sort/Order', 'Major area, region, country or area of destination', 'Notes', 'Country Code', 'Type of data (a)'],\n",
        "              value_vars = ['(female) (1990)',\n",
        "                            '(female) (1995)',\n",
        "                            '(female) (2000)',\n",
        "                            '(female) (2005)',\n",
        "                            '(female) (2010)',\n",
        "                            '(female) (2015)'],\n",
        "               var_name = 'Year',\n",
        "               value_name = 'International migrant stock') ## Use melt function to create a new database that only contain data of female"
      ],
      "metadata": {
        "id": "5MVwJhTptq_v"
      },
      "execution_count": null,
      "outputs": []
    },
    {
      "cell_type": "code",
      "source": [
        "# Now I get three new dataset named 1)UN_International_migrant_stock_both_sex, 2)UN_International_migrant_stock_male, 3)UN_International_migrant_stock_female\n",
        "# For these dataset, I still want to show only year in the column sex and year\n",
        "UN_International_migrant_stock_both_sex = (UN_International_migrant_stock_both_sex.assign(Year = lambda x: x.Year.str[13:].astype(str)))"
      ],
      "metadata": {
        "id": "LE8q592Lt9hl"
      },
      "execution_count": null,
      "outputs": []
    },
    {
      "cell_type": "code",
      "source": [
        "UN_international_migrant_stock_bothsexes_1990 = UN_International_migrant_stock_both_sex[0:265].reset_index(drop = True)\n",
        "UN_international_migrant_stock_bothsexes_1995 = UN_International_migrant_stock_both_sex[265:530].reset_index(drop = True)\n",
        "UN_international_migrant_stock_bothsexes_2000 = UN_International_migrant_stock_both_sex[530:795].reset_index(drop = True)\n",
        "UN_international_migrant_stock_bothsexes_2005 = UN_International_migrant_stock_both_sex[795:1060].reset_index(drop = True)\n",
        "UN_international_migrant_stock_bothsexes_2010 = UN_International_migrant_stock_both_sex[1060:1325].reset_index(drop = True)\n",
        "UN_international_migrant_stock_bothsexes_2015 = UN_International_migrant_stock_both_sex[1325:].reset_index(drop = True)\n",
        "#Based on the UN_international_migrant_stock_bothsexes database, I separate it to 6 dataframes from 1990 to 2015"
      ],
      "metadata": {
        "id": "PlFVM_dCxKnw"
      },
      "execution_count": null,
      "outputs": []
    },
    {
      "cell_type": "code",
      "source": [
        "UN_International_migrant_stock_male = (UN_International_migrant_stock_male.assign(Year = lambda x: x.Year.str[7:].astype(str)))\n",
        "# Same operation to UN_International_migrant_stock_male"
      ],
      "metadata": {
        "id": "y1llaC4N0R6K"
      },
      "execution_count": null,
      "outputs": []
    },
    {
      "cell_type": "code",
      "source": [
        "UN_international_migrant_stock_male_1990 = UN_International_migrant_stock_male[0:265].reset_index(drop = True)\n",
        "UN_international_migrant_stock_male_1995 = UN_International_migrant_stock_male[265:530].reset_index(drop = True)\n",
        "UN_international_migrant_stock_male_2000 = UN_International_migrant_stock_male[530:795].reset_index(drop = True)\n",
        "UN_international_migrant_stock_male_2005 = UN_International_migrant_stock_male[795:1060].reset_index(drop = True)\n",
        "UN_international_migrant_stock_male_2010 = UN_International_migrant_stock_male[1060:1325].reset_index(drop = True)\n",
        "UN_international_migrant_stock_male_2015 = UN_International_migrant_stock_male[1325:].reset_index(drop = True)\n",
        "# Another 6 dataframes for UN_International_migrant_stock_male"
      ],
      "metadata": {
        "id": "lGVzrWXe1scZ"
      },
      "execution_count": null,
      "outputs": []
    },
    {
      "cell_type": "code",
      "source": [
        "UN_International_migrant_stock_female = (UN_International_migrant_stock_female.assign(Year = lambda x: x.Year.str[9:].astype(str)))\n",
        "# Same operation to UN_International_migrant_stock_female"
      ],
      "metadata": {
        "id": "FlUlDqJT2sLj"
      },
      "execution_count": null,
      "outputs": []
    },
    {
      "cell_type": "code",
      "source": [
        "UN_international_migrant_stock_female_1990 = UN_International_migrant_stock_female[0:265].reset_index(drop = True)\n",
        "UN_international_migrant_stock_female_1995 = UN_International_migrant_stock_female[265:530].reset_index(drop = True)\n",
        "UN_international_migrant_stock_female_2000 = UN_International_migrant_stock_female[530:795].reset_index(drop = True)\n",
        "UN_international_migrant_stock_female_2005 = UN_International_migrant_stock_female[795:1060].reset_index(drop = True)\n",
        "UN_international_migrant_stock_female_2010 = UN_International_migrant_stock_female[1060:1325].reset_index(drop = True)\n",
        "UN_international_migrant_stock_female_2015 = UN_International_migrant_stock_female[1325:].reset_index(drop = True)\n",
        "# Another 6 dataframes for UN_International_migrant_stock_female"
      ],
      "metadata": {
        "id": "3H1FLVEc3QgQ"
      },
      "execution_count": null,
      "outputs": []
    },
    {
      "cell_type": "markdown",
      "source": [
        "**Sheet 2 Cleaning process**"
      ],
      "metadata": {
        "id": "to6uw-l1fp7e"
      }
    },
    {
      "cell_type": "code",
      "source": [
        "UN_table2 = pd.read_excel('/content/drive/MyDrive/INF 1340/UN Dataset.xlsx', sheet_name=2) # load the second sheet"
      ],
      "metadata": {
        "id": "AUicmEtRCHPK"
      },
      "execution_count": null,
      "outputs": []
    },
    {
      "cell_type": "code",
      "source": [
        "UN_table2 = UN_table2.drop(index = [0, 1, 2, 3, 4, 5, 6, 7, 8, 9, 10, 11, 12]) # drop those rows in the green title area"
      ],
      "metadata": {
        "id": "b8IF4TpQgSOl"
      },
      "execution_count": null,
      "outputs": []
    },
    {
      "cell_type": "code",
      "source": [
        "UN_table2_total_pulation = UN_table2.rename({'Unnamed: 0' : 'Sort/Order',\n",
        "                 'Unnamed: 1' : 'Major area, region, country or area of destination',\n",
        "                 'Unnamed: 2' : 'Notes',\n",
        "                 'Unnamed: 3' : 'Country Code',\n",
        "                 'Unnamed: 4' : '(both sexes) (1990)',\n",
        "                 'Unnamed: 5' : '(both sexes) (1995)',\n",
        "                 'Unnamed: 6' : '(both sexes) (2000)',\n",
        "                 'Unnamed: 7' : '(both sexes) (2005)',\n",
        "                 'Unnamed: 8' : '(both sexes) (2010)',\n",
        "                 'Unnamed: 9': '(both sexes) (2015)',\n",
        "                 'Unnamed: 10': '(male) (1990)',\n",
        "                 'Unnamed: 11': '(male) (1995)',\n",
        "                 'Unnamed: 12': '(male) (2000)',\n",
        "                 'Unnamed: 13': '(male) (2005)',\n",
        "                 'Unnamed: 14': '(male) (2010)',\n",
        "                 'Unnamed: 15': '(male) (2015)',\n",
        "                 'Unnamed: 16': '(female) (1990)',\n",
        "                 'Unnamed: 17': '(female) (1995)',\n",
        "                 'Unnamed: 18': '(female) (2000)',\n",
        "                 'Unnamed: 19': '(female) (2005)',\n",
        "                 'Unnamed: 20': '(female) (2010)',\n",
        "                 'Unnamed: 21': '(female) (2015)'}, axis = 1) # Rename the column header to make it more clearer"
      ],
      "metadata": {
        "id": "7HvdyHzKgY1r"
      },
      "execution_count": null,
      "outputs": []
    },
    {
      "cell_type": "code",
      "source": [
        "UN_table2_total_pulation = UN_table2_total_pulation.drop(index = [13, 14]) # Now drop the row 13, 14"
      ],
      "metadata": {
        "id": "mmNFFrnlhXnT"
      },
      "execution_count": null,
      "outputs": []
    },
    {
      "cell_type": "code",
      "source": [
        "UN_table2_total_pulation = UN_table2_total_pulation.fillna('') #Replace the NaN value with empty strings"
      ],
      "metadata": {
        "id": "GUG-MxE6hzIx"
      },
      "execution_count": null,
      "outputs": []
    },
    {
      "cell_type": "code",
      "source": [
        "UN_total_population_both_sex = UN_table2_total_pulation.melt(id_vars = ['Sort/Order', 'Major area, region, country or area of destination', 'Notes', 'Country Code'],\n",
        "              value_vars = ['(both sexes) (1990)',\n",
        "                            '(both sexes) (1995)',\n",
        "                            '(both sexes) (2000)',\n",
        "                            '(both sexes) (2005)',\n",
        "                            '(both sexes) (2010)',\n",
        "                            '(both sexes) (2015)'],\n",
        "               var_name = 'Year',\n",
        "               value_name = 'Total Population at Mid-year') # Use melt function to get the table of total population of both sexes"
      ],
      "metadata": {
        "id": "T4etxJUZiUZe"
      },
      "execution_count": null,
      "outputs": []
    },
    {
      "cell_type": "code",
      "source": [
        "UN_total_population_male = UN_table2_total_pulation.melt(id_vars = ['Sort/Order', 'Major area, region, country or area of destination', 'Notes', 'Country Code'],\n",
        "              value_vars = ['(male) (1990)',\n",
        "                            '(male) (1995)',\n",
        "                            '(male) (2000)',\n",
        "                            '(male) (2005)',\n",
        "                            '(male) (2010)',\n",
        "                            '(male) (2015)'],\n",
        "               var_name = 'Year',\n",
        "               value_name = 'Total Population at Mid-year')# Use melt function to get the table of total population of males"
      ],
      "metadata": {
        "id": "w2tvWULNjSCW"
      },
      "execution_count": null,
      "outputs": []
    },
    {
      "cell_type": "code",
      "source": [
        "UN_total_population_female = UN_table2_total_pulation.melt(id_vars = ['Sort/Order', 'Major area, region, country or area of destination', 'Notes', 'Country Code'],\n",
        "              value_vars = ['(female) (1990)',\n",
        "                            '(female) (1995)',\n",
        "                            '(female) (2000)',\n",
        "                            '(female) (2005)',\n",
        "                            '(female) (2010)',\n",
        "                            '(female) (2015)'],\n",
        "               var_name = 'Year',\n",
        "               value_name = 'Total Population at Mid-year') # Use melt function to get the table of total population of females"
      ],
      "metadata": {
        "id": "FG7DfkcFjjfR"
      },
      "execution_count": null,
      "outputs": []
    },
    {
      "cell_type": "code",
      "source": [
        "# Now I got three different dataframes named 1)UN_total_pupulation_both_sexes, 2)UN_total_population_male, 3)UN_total_population_female\n",
        "# I only want to show year in the year column\n",
        "UN_total_population_both_sex = (UN_total_population_both_sex.assign(Year = lambda x: x.Year.str[13:].astype(str)))\n",
        "UN_total_population_male = (UN_total_population_male.assign(Year = lambda x: x.Year.str[7:].astype(str)))\n",
        "UN_total_population_female = (UN_total_population_female.assign(Year = lambda x: x.Year.str[9:].astype(str)))"
      ],
      "metadata": {
        "id": "sC9YUue2kT0G"
      },
      "execution_count": null,
      "outputs": []
    },
    {
      "cell_type": "code",
      "source": [
        "# Now separating dataframe of bothsexes into 6 different dataframes of 6 different years\n",
        "UN_total_population_bothsexes_1990 = UN_total_population_both_sex[0:265].reset_index(drop = True)\n",
        "UN_total_population_bothsexes_1995 = UN_total_population_both_sex[265:530].reset_index(drop = True)\n",
        "UN_total_population_bothsexes_2000 = UN_total_population_both_sex[530:795].reset_index(drop = True)\n",
        "UN_total_population_bothsexes_2005 = UN_total_population_both_sex[795:1060].reset_index(drop = True)\n",
        "UN_total_population_bothsexes_2010 = UN_total_population_both_sex[1060:1325].reset_index(drop = True)\n",
        "UN_total_population_bothsexes_2015 = UN_total_population_both_sex[1325:].reset_index(drop = True)"
      ],
      "metadata": {
        "id": "anoI_w-llAC_"
      },
      "execution_count": null,
      "outputs": []
    },
    {
      "cell_type": "code",
      "source": [
        "# Now separating dataframe of famle into 6 different dataframes of 6 different years\n",
        "UN_total_population_female_1990 = UN_total_population_female[0:265].reset_index(drop = True)\n",
        "UN_total_population_female_1995 = UN_total_population_female[265:530].reset_index(drop = True)\n",
        "UN_total_population_female_2000 = UN_total_population_female[530:795].reset_index(drop = True)\n",
        "UN_total_population_female_2005 = UN_total_population_female[795:1060].reset_index(drop = True)\n",
        "UN_total_population_female_2010 = UN_total_population_female[1060:1325].reset_index(drop = True)\n",
        "UN_total_population_female_2015 = UN_total_population_female[1325:].reset_index(drop = True)"
      ],
      "metadata": {
        "id": "h7zLuh1Qm-Lb"
      },
      "execution_count": null,
      "outputs": []
    },
    {
      "cell_type": "code",
      "source": [
        "# Now separating dataframe of male into 6 different dataframes of 6 different years\n",
        "UN_total_population_male_1990 = UN_total_population_male[0:265].reset_index(drop = True)\n",
        "UN_total_population_male_1995 = UN_total_population_male[265:530].reset_index(drop = True)\n",
        "UN_total_population_male_2000 = UN_total_population_male[530:795].reset_index(drop = True)\n",
        "UN_total_population_male_2005 = UN_total_population_male[795:1060].reset_index(drop = True)\n",
        "UN_total_population_male_2010 = UN_total_population_male[1060:1325].reset_index(drop = True)\n",
        "UN_total_population_male_2015 = UN_total_population_male[1325:].reset_index(drop = True)"
      ],
      "metadata": {
        "id": "yUU4LXXRniVh"
      },
      "execution_count": null,
      "outputs": []
    },
    {
      "cell_type": "code",
      "source": [
        "# Now I want to merge data of International Migrant Stock and Total population of different years\n",
        "# These will be our total data of UN both sexes\n",
        "UN_1990_both_sexes = UN_international_migrant_stock_bothsexes_1990.merge(UN_total_population_bothsexes_1990, on=['Sort/Order', \n",
        "                                                                                            'Major area, region, country or area of destination',\n",
        "                                                                                            'Notes',\n",
        "                                                                                            'Country Code',\n",
        "                                                                                            'Year'])\n",
        "UN_1995_both_sexes = UN_international_migrant_stock_bothsexes_1995.merge(UN_total_population_bothsexes_1995, on=['Sort/Order', \n",
        "                                                                                            'Major area, region, country or area of destination',\n",
        "                                                                                            'Notes',\n",
        "                                                                                            'Country Code',\n",
        "                                                                                            'Year'])\n",
        "UN_2000_both_sexes = UN_international_migrant_stock_bothsexes_2000.merge(UN_total_population_bothsexes_2000, on=['Sort/Order', \n",
        "                                                                                            'Major area, region, country or area of destination',\n",
        "                                                                                            'Notes',\n",
        "                                                                                            'Country Code',\n",
        "                                                                                            'Year'])\n",
        "UN_2005_both_sexes = UN_international_migrant_stock_bothsexes_2005.merge(UN_total_population_bothsexes_2005, on=['Sort/Order', \n",
        "                                                                                            'Major area, region, country or area of destination',\n",
        "                                                                                            'Notes',\n",
        "                                                                                            'Country Code',\n",
        "                                                                                            'Year'])\n",
        "UN_2010_both_sexes = UN_international_migrant_stock_bothsexes_2010.merge(UN_total_population_bothsexes_2010, on=['Sort/Order', \n",
        "                                                                                            'Major area, region, country or area of destination',\n",
        "                                                                                            'Notes',\n",
        "                                                                                            'Country Code',\n",
        "                                                                                            'Year'])\n",
        "UN_2015_both_sexes = UN_international_migrant_stock_bothsexes_2015.merge(UN_total_population_bothsexes_2015, on=['Sort/Order', \n",
        "                                                                                            'Major area, region, country or area of destination',\n",
        "                                                                                            'Notes',\n",
        "                                                                                            'Country Code',\n",
        "                                                                                            'Year'])"
      ],
      "metadata": {
        "id": "BGgHBbaVqnqH"
      },
      "execution_count": null,
      "outputs": []
    },
    {
      "cell_type": "code",
      "source": [
        "# These will be our total data of UN male\n",
        "UN_1990_female = UN_international_migrant_stock_female_1990.merge(UN_total_population_female_1990, on=['Sort/Order', \n",
        "                                                                                            'Major area, region, country or area of destination',\n",
        "                                                                                            'Notes',\n",
        "                                                                                            'Country Code',\n",
        "                                                                                            'Year'])\n",
        "UN_1995_female = UN_international_migrant_stock_female_1995.merge(UN_total_population_female_1995, on=['Sort/Order', \n",
        "                                                                                            'Major area, region, country or area of destination',\n",
        "                                                                                            'Notes',\n",
        "                                                                                            'Country Code',\n",
        "                                                                                            'Year'])\n",
        "UN_2000_female = UN_international_migrant_stock_female_2000.merge(UN_total_population_female_2000, on=['Sort/Order', \n",
        "                                                                                            'Major area, region, country or area of destination',\n",
        "                                                                                            'Notes',\n",
        "                                                                                            'Country Code',\n",
        "                                                                                            'Year'])\n",
        "UN_2005_female = UN_international_migrant_stock_female_2005.merge(UN_total_population_female_2005, on=['Sort/Order', \n",
        "                                                                                            'Major area, region, country or area of destination',\n",
        "                                                                                            'Notes',\n",
        "                                                                                            'Country Code',\n",
        "                                                                                            'Year'])\n",
        "UN_2010_female = UN_international_migrant_stock_female_2010.merge(UN_total_population_female_2010, on=['Sort/Order', \n",
        "                                                                                            'Major area, region, country or area of destination',\n",
        "                                                                                            'Notes',\n",
        "                                                                                            'Country Code',\n",
        "                                                                                            'Year'])\n",
        "UN_2015_female = UN_international_migrant_stock_female_2015.merge(UN_total_population_female_2015, on=['Sort/Order', \n",
        "                                                                                            'Major area, region, country or area of destination',\n",
        "                                                                                            'Notes',\n",
        "                                                                                            'Country Code',\n",
        "                                                                                            'Year'])"
      ],
      "metadata": {
        "id": "sDAjgJ8it7v9"
      },
      "execution_count": null,
      "outputs": []
    },
    {
      "cell_type": "code",
      "source": [
        "# These will be our total data of UN female\n",
        "UN_1990_male = UN_international_migrant_stock_male_1990.merge(UN_total_population_male_1990, on=['Sort/Order', \n",
        "                                                                                            'Major area, region, country or area of destination',\n",
        "                                                                                            'Notes',\n",
        "                                                                                            'Country Code',\n",
        "                                                                                            'Year'])\n",
        "UN_1995_male = UN_international_migrant_stock_male_1995.merge(UN_total_population_male_1995, on=['Sort/Order', \n",
        "                                                                                            'Major area, region, country or area of destination',\n",
        "                                                                                            'Notes',\n",
        "                                                                                            'Country Code',\n",
        "                                                                                            'Year'])\n",
        "UN_2000_male = UN_international_migrant_stock_male_2000.merge(UN_total_population_male_2000, on=['Sort/Order', \n",
        "                                                                                            'Major area, region, country or area of destination',\n",
        "                                                                                            'Notes',\n",
        "                                                                                            'Country Code',\n",
        "                                                                                            'Year'])\n",
        "UN_2005_male = UN_international_migrant_stock_male_2005.merge(UN_total_population_male_2005, on=['Sort/Order', \n",
        "                                                                                            'Major area, region, country or area of destination',\n",
        "                                                                                            'Notes',\n",
        "                                                                                            'Country Code',\n",
        "                                                                                            'Year'])\n",
        "UN_2010_male = UN_international_migrant_stock_male_2010.merge(UN_total_population_male_2010, on=['Sort/Order', \n",
        "                                                                                            'Major area, region, country or area of destination',\n",
        "                                                                                            'Notes',\n",
        "                                                                                            'Country Code',\n",
        "                                                                                            'Year'])\n",
        "UN_2015_male = UN_international_migrant_stock_male_2015.merge(UN_total_population_male_2015, on=['Sort/Order', \n",
        "                                                                                            'Major area, region, country or area of destination',\n",
        "                                                                                            'Notes',\n",
        "                                                                                            'Country Code',\n",
        "                                                                                            'Year'])"
      ],
      "metadata": {
        "id": "rw4PuUP4voiL"
      },
      "execution_count": null,
      "outputs": []
    },
    {
      "cell_type": "markdown",
      "source": [
        "**Sheet 3 Cleaning Process**"
      ],
      "metadata": {
        "id": "b5kCUPKBxF2t"
      }
    },
    {
      "cell_type": "code",
      "source": [
        "UN_table3 = pd.read_excel('/content/drive/MyDrive/INF 1340/UN Dataset.xlsx', sheet_name=3) #load the third sheet"
      ],
      "metadata": {
        "id": "zs3NXaJSv7ul"
      },
      "execution_count": null,
      "outputs": []
    },
    {
      "cell_type": "code",
      "source": [
        "UN_table3 = UN_table3.drop(index = [0, 1, 2, 3, 4, 5, 6, 7, 8, 9, 10, 11, 12, 13, 14]) # drop the rows in the green title area and rows contain the column name"
      ],
      "metadata": {
        "id": "4bbqoe9syMKL"
      },
      "execution_count": null,
      "outputs": []
    },
    {
      "cell_type": "code",
      "source": [
        "UN_table3 = UN_table3.rename({'Unnamed: 0' : 'Sort/Order',\n",
        "                 'Unnamed: 1' : 'Major area, region, country or area of destination',\n",
        "                 'Unnamed: 2' : 'Notes',\n",
        "                 'Unnamed: 3' : 'Country Code',\n",
        "                 'Unnamed: 4' : 'Type of data (a)',\n",
        "                 'Unnamed: 5' : '(both sexes) (1990)',\n",
        "                 'Unnamed: 6' : '(both sexes) (1995)',\n",
        "                 'Unnamed: 7' : '(both sexes) (2000)',\n",
        "                 'Unnamed: 8' : '(both sexes) (2005)',\n",
        "                 'Unnamed: 9' : '(both sexes) (2010)',\n",
        "                 'Unnamed: 10': '(both sexes) (2015)',\n",
        "                 'Unnamed: 11': '(male) (1990)',\n",
        "                 'Unnamed: 12': '(male) (1995)',\n",
        "                 'Unnamed: 13': '(male) (2000)',\n",
        "                 'Unnamed: 14': '(male) (2005)',\n",
        "                 'Unnamed: 15': '(male) (2010)',\n",
        "                 'Unnamed: 16': '(male) (2015)',\n",
        "                 'Unnamed: 17': '(female) (1990)',\n",
        "                 'Unnamed: 18': '(female) (1995)',\n",
        "                 'Unnamed: 19': '(female) (2000)',\n",
        "                 'Unnamed: 20': '(female) (2005)',\n",
        "                 'Unnamed: 21': '(female) (2010)',\n",
        "                 'Unnamed: 22': '(female) (2015)'}, axis = 1) # Column renaming proces"
      ],
      "metadata": {
        "id": "BdL8fUq0zaam"
      },
      "execution_count": null,
      "outputs": []
    },
    {
      "cell_type": "code",
      "source": [
        "UN_table3 = UN_table3.fillna('') #Replace the NaN value with empty strings"
      ],
      "metadata": {
        "id": "TFpYA1oTzdhK"
      },
      "execution_count": null,
      "outputs": []
    },
    {
      "cell_type": "code",
      "source": [
        "UN_migrant_percentage_both_sex = UN_table3.melt(id_vars = ['Sort/Order', 'Major area, region, country or area of destination', 'Notes', 'Country Code', 'Type of data (a)'],\n",
        "              value_vars = ['(both sexes) (1990)',\n",
        "                            '(both sexes) (1995)',\n",
        "                            '(both sexes) (2000)',\n",
        "                            '(both sexes) (2005)',\n",
        "                            '(both sexes) (2010)',\n",
        "                            '(both sexes) (2015)'],\n",
        "               var_name = 'Year',\n",
        "               value_name = 'International migrant stock as a percentage of total population') # Use melt function to get the data of both sexes"
      ],
      "metadata": {
        "id": "CaPZr_90z2Gc"
      },
      "execution_count": null,
      "outputs": []
    },
    {
      "cell_type": "code",
      "source": [
        "UN_migrant_percentage_male = UN_table3.melt(id_vars = ['Sort/Order', 'Major area, region, country or area of destination', 'Notes', 'Country Code', 'Type of data (a)'],\n",
        "              value_vars = ['(male) (1990)',\n",
        "                            '(male) (1995)',\n",
        "                            '(male) (2000)',\n",
        "                            '(male) (2005)',\n",
        "                            '(male) (2010)',\n",
        "                            '(male) (2015)'],\n",
        "               var_name = 'Year',\n",
        "               value_name = 'International migrant stock as a percentage of total population') #Use melt function to get the data of males"
      ],
      "metadata": {
        "id": "0WZtGfG10nu0"
      },
      "execution_count": null,
      "outputs": []
    },
    {
      "cell_type": "code",
      "source": [
        "UN_migrant_percentage_female = UN_table3.melt(id_vars = ['Sort/Order', 'Major area, region, country or area of destination', 'Notes', 'Country Code', 'Type of data (a)'],\n",
        "              value_vars = ['(female) (1990)',\n",
        "                            '(female) (1995)',\n",
        "                            '(female) (2000)',\n",
        "                            '(female) (2005)',\n",
        "                            '(female) (2010)',\n",
        "                            '(female) (2015)'],\n",
        "               var_name = 'Year',\n",
        "               value_name = 'International migrant stock as a percentage of total population') # Use melt function to get the data of females"
      ],
      "metadata": {
        "id": "Zlc944p41b9Z"
      },
      "execution_count": null,
      "outputs": []
    },
    {
      "cell_type": "code",
      "source": [
        "# Now I only want to show year in the Year column in each dataframe\n",
        "UN_migrant_percentage_both_sex = (UN_migrant_percentage_both_sex.assign(Year = lambda x: x.Year.str[13:].astype(str)))\n",
        "UN_migrant_percentage_male = (UN_migrant_percentage_male.assign(Year = lambda x: x.Year.str[7:].astype(str)))\n",
        "UN_migrant_percentage_female = (UN_migrant_percentage_female.assign(Year = lambda x: x.Year.str[9:].astype(str)))"
      ],
      "metadata": {
        "id": "vyczanq510cs"
      },
      "execution_count": null,
      "outputs": []
    },
    {
      "cell_type": "code",
      "source": [
        "# Now separating dataframe of bothsexes into 6 different dataframes of 6 different years\n",
        "UN_migrant_percentage_both_sex_1990 = UN_migrant_percentage_both_sex[0:265].reset_index(drop = True)\n",
        "UN_migrant_percentage_both_sex_1995 = UN_migrant_percentage_both_sex[265:530].reset_index(drop = True)\n",
        "UN_migrant_percentage_both_sex_2000 = UN_migrant_percentage_both_sex[530:795].reset_index(drop = True)\n",
        "UN_migrant_percentage_both_sex_2005 = UN_migrant_percentage_both_sex[795:1060].reset_index(drop = True)\n",
        "UN_migrant_percentage_both_sex_2010 = UN_migrant_percentage_both_sex[1060:1325].reset_index(drop = True)\n",
        "UN_migrant_percentage_both_sex_2015 = UN_migrant_percentage_both_sex[1325:].reset_index(drop = True)"
      ],
      "metadata": {
        "id": "eB4nBvCz2IMb"
      },
      "execution_count": null,
      "outputs": []
    },
    {
      "cell_type": "code",
      "source": [
        "# Now separating dataframe of males into 6 different dataframes of 6 different years\n",
        "UN_migrant_percentage_male_1990 = UN_migrant_percentage_male[0:265].reset_index(drop = True)\n",
        "UN_migrant_percentage_male_1995 = UN_migrant_percentage_male[265:530].reset_index(drop = True)\n",
        "UN_migrant_percentage_male_2000 = UN_migrant_percentage_male[530:795].reset_index(drop = True)\n",
        "UN_migrant_percentage_male_2005 = UN_migrant_percentage_male[795:1060].reset_index(drop = True)\n",
        "UN_migrant_percentage_male_2010 = UN_migrant_percentage_male[1060:1325].reset_index(drop = True)\n",
        "UN_migrant_percentage_male_2015 = UN_migrant_percentage_male[1325:].reset_index(drop = True)"
      ],
      "metadata": {
        "id": "efSf5uTo28ke"
      },
      "execution_count": null,
      "outputs": []
    },
    {
      "cell_type": "code",
      "source": [
        "# Now separating dataframe of females into 6 different dataframes of 6 different years\n",
        "UN_migrant_percentage_female_1990 = UN_migrant_percentage_female[0:265].reset_index(drop = True)\n",
        "UN_migrant_percentage_female_1995 = UN_migrant_percentage_female[265:530].reset_index(drop = True)\n",
        "UN_migrant_percentage_female_2000 = UN_migrant_percentage_female[530:795].reset_index(drop = True)\n",
        "UN_migrant_percentage_female_2005 = UN_migrant_percentage_female[795:1060].reset_index(drop = True)\n",
        "UN_migrant_percentage_female_2010 = UN_migrant_percentage_female[1060:1325].reset_index(drop = True)\n",
        "UN_migrant_percentage_female_2015 = UN_migrant_percentage_female[1325:].reset_index(drop = True)"
      ],
      "metadata": {
        "id": "X1y3x7Fd4FNM"
      },
      "execution_count": null,
      "outputs": []
    },
    {
      "cell_type": "code",
      "source": [
        "# After we got 18 different data frames, it is time to merge these data frames to our total UN dataframes\n",
        "UN_1990_both_sexes = UN_1990_both_sexes.merge(UN_migrant_percentage_both_sex_1990, on=['Sort/Order', \n",
        "                                                                                            'Major area, region, country or area of destination',\n",
        "                                                                                            'Notes',\n",
        "                                                                                            'Country Code',\n",
        "                                                                                            'Year',\n",
        "                                                                                            'Type of data (a)'])\n",
        "UN_1995_both_sexes = UN_1995_both_sexes.merge(UN_migrant_percentage_both_sex_1995, on=['Sort/Order', \n",
        "                                                                                            'Major area, region, country or area of destination',\n",
        "                                                                                            'Notes',\n",
        "                                                                                            'Country Code',\n",
        "                                                                                            'Year',\n",
        "                                                                                            'Type of data (a)'])\n",
        "UN_2000_both_sexes = UN_2000_both_sexes.merge(UN_migrant_percentage_both_sex_2000, on=['Sort/Order', \n",
        "                                                                                            'Major area, region, country or area of destination',\n",
        "                                                                                            'Notes',\n",
        "                                                                                            'Country Code',\n",
        "                                                                                            'Year',\n",
        "                                                                                            'Type of data (a)'])\n",
        "UN_2005_both_sexes = UN_2005_both_sexes.merge(UN_migrant_percentage_both_sex_2005, on=['Sort/Order', \n",
        "                                                                                            'Major area, region, country or area of destination',\n",
        "                                                                                            'Notes',\n",
        "                                                                                            'Country Code',\n",
        "                                                                                            'Year',\n",
        "                                                                                            'Type of data (a)'])\n",
        "UN_2010_both_sexes = UN_2010_both_sexes.merge(UN_migrant_percentage_both_sex_2010, on=['Sort/Order', \n",
        "                                                                                            'Major area, region, country or area of destination',\n",
        "                                                                                            'Notes',\n",
        "                                                                                            'Country Code',\n",
        "                                                                                            'Year',\n",
        "                                                                                            'Type of data (a)'])\n",
        "UN_2015_both_sexes = UN_2015_both_sexes.merge(UN_migrant_percentage_both_sex_2015, on=['Sort/Order', \n",
        "                                                                                            'Major area, region, country or area of destination',\n",
        "                                                                                            'Notes',\n",
        "                                                                                            'Country Code',\n",
        "                                                                                            'Year',\n",
        "                                                                                            'Type of data (a)'])"
      ],
      "metadata": {
        "id": "E3m8bqOO45-3"
      },
      "execution_count": null,
      "outputs": []
    },
    {
      "cell_type": "code",
      "source": [
        "UN_1990_female = UN_1990_female.merge(UN_migrant_percentage_female_1990, on=['Sort/Order', \n",
        "                                                                                            'Major area, region, country or area of destination',\n",
        "                                                                                            'Notes',\n",
        "                                                                                            'Country Code',\n",
        "                                                                                            'Year',\n",
        "                                                                                            'Type of data (a)'])\n",
        "UN_1995_female = UN_1995_female.merge(UN_migrant_percentage_female_1995, on=['Sort/Order', \n",
        "                                                                                            'Major area, region, country or area of destination',\n",
        "                                                                                            'Notes',\n",
        "                                                                                            'Country Code',\n",
        "                                                                                            'Year',\n",
        "                                                                                            'Type of data (a)'])\n",
        "UN_2000_female = UN_2000_female.merge(UN_migrant_percentage_female_2000, on=['Sort/Order', \n",
        "                                                                                            'Major area, region, country or area of destination',\n",
        "                                                                                            'Notes',\n",
        "                                                                                            'Country Code',\n",
        "                                                                                            'Year',\n",
        "                                                                                            'Type of data (a)'])\n",
        "UN_2005_female = UN_2005_female.merge(UN_migrant_percentage_female_2005, on=['Sort/Order', \n",
        "                                                                                            'Major area, region, country or area of destination',\n",
        "                                                                                            'Notes',\n",
        "                                                                                            'Country Code',\n",
        "                                                                                            'Year',\n",
        "                                                                                            'Type of data (a)'])\n",
        "UN_2010_female = UN_2010_female.merge(UN_migrant_percentage_female_2010, on=['Sort/Order', \n",
        "                                                                                            'Major area, region, country or area of destination',\n",
        "                                                                                            'Notes',\n",
        "                                                                                            'Country Code',\n",
        "                                                                                            'Year',\n",
        "                                                                                            'Type of data (a)'])\n",
        "UN_2015_female = UN_2015_female.merge(UN_migrant_percentage_female_2015, on=['Sort/Order', \n",
        "                                                                                            'Major area, region, country or area of destination',\n",
        "                                                                                            'Notes',\n",
        "                                                                                            'Country Code',\n",
        "                                                                                            'Year',\n",
        "                                                                                            'Type of data (a)'])"
      ],
      "metadata": {
        "id": "LZGnOmAt48rf"
      },
      "execution_count": null,
      "outputs": []
    },
    {
      "cell_type": "code",
      "source": [
        "UN_1990_male = UN_1990_male.merge(UN_migrant_percentage_male_1990, on=['Sort/Order', \n",
        "                                                                                            'Major area, region, country or area of destination',\n",
        "                                                                                            'Notes',\n",
        "                                                                                            'Country Code',\n",
        "                                                                                            'Year',\n",
        "                                                                                            'Type of data (a)'])\n",
        "UN_1995_male = UN_1995_male.merge(UN_migrant_percentage_male_1995, on=['Sort/Order', \n",
        "                                                                                            'Major area, region, country or area of destination',\n",
        "                                                                                            'Notes',\n",
        "                                                                                            'Country Code',\n",
        "                                                                                            'Year',\n",
        "                                                                                            'Type of data (a)'])\n",
        "UN_2000_male = UN_2000_male.merge(UN_migrant_percentage_male_2000, on=['Sort/Order', \n",
        "                                                                                            'Major area, region, country or area of destination',\n",
        "                                                                                            'Notes',\n",
        "                                                                                            'Country Code',\n",
        "                                                                                            'Year',\n",
        "                                                                                            'Type of data (a)'])\n",
        "UN_2005_male = UN_2005_male.merge(UN_migrant_percentage_male_2005, on=['Sort/Order', \n",
        "                                                                                            'Major area, region, country or area of destination',\n",
        "                                                                                            'Notes',\n",
        "                                                                                            'Country Code',\n",
        "                                                                                            'Year',\n",
        "                                                                                            'Type of data (a)'])\n",
        "UN_2010_male = UN_2010_male.merge(UN_migrant_percentage_male_2010, on=['Sort/Order', \n",
        "                                                                                            'Major area, region, country or area of destination',\n",
        "                                                                                            'Notes',\n",
        "                                                                                            'Country Code',\n",
        "                                                                                            'Year',\n",
        "                                                                                            'Type of data (a)'])\n",
        "UN_2015_male = UN_2015_male.merge(UN_migrant_percentage_male_2015, on=['Sort/Order', \n",
        "                                                                                            'Major area, region, country or area of destination',\n",
        "                                                                                            'Notes',\n",
        "                                                                                            'Country Code',\n",
        "                                                                                            'Year',\n",
        "                                                                                            'Type of data (a)'])"
      ],
      "metadata": {
        "id": "8LBlttog6l9G"
      },
      "execution_count": null,
      "outputs": []
    },
    {
      "cell_type": "markdown",
      "source": [
        "**Sheet 4 Cleaning Process**"
      ],
      "metadata": {
        "id": "2YoQimvo9jqb"
      }
    },
    {
      "cell_type": "code",
      "source": [
        "UN_table4 = pd.read_excel('/content/drive/MyDrive/INF 1340/UN Dataset.xlsx', sheet_name=4) #load the data"
      ],
      "metadata": {
        "id": "9hIfA-xc9Jig"
      },
      "execution_count": null,
      "outputs": []
    },
    {
      "cell_type": "code",
      "source": [
        "UN_table4 = UN_table4.drop(index = [0, 1, 2, 3, 4, 5, 6, 7, 8, 9, 10, 11, 12, 13, 14]) # drop the rows in the green title area and contain column name"
      ],
      "metadata": {
        "id": "QdJN47nv-ipN"
      },
      "execution_count": null,
      "outputs": []
    },
    {
      "cell_type": "code",
      "source": [
        "# Column Renaming Process\n",
        "UN_table4 = UN_table4.rename({'Unnamed: 0' : 'Sort/Order',\n",
        "                 'Unnamed: 1' : 'Major area, region, country or area of destination',\n",
        "                 'Unnamed: 2' : 'Notes',\n",
        "                 'Unnamed: 3' : 'Country Code',\n",
        "                 'Unnamed: 4' : 'Type of data (a)',\n",
        "                 'Unnamed: 5' : '(female) (1990)',\n",
        "                 'Unnamed: 6' : '(female) (1995)',\n",
        "                 'Unnamed: 7' : '(female) (2000)',\n",
        "                 'Unnamed: 8' : '(female) (2005)',\n",
        "                 'Unnamed: 9' : '(female) (2010)',\n",
        "                 'Unnamed: 10': '(female) (2015)',}, axis = 1)"
      ],
      "metadata": {
        "id": "dLVFWO7H-jn4"
      },
      "execution_count": null,
      "outputs": []
    },
    {
      "cell_type": "code",
      "source": [
        "#Filling the Nah value with empty string\n",
        "UN_table4 = UN_table4.fillna('')"
      ],
      "metadata": {
        "id": "EozsIMlh-xXl"
      },
      "execution_count": null,
      "outputs": []
    },
    {
      "cell_type": "code",
      "source": [
        "UN_female_percentage = UN_table4.melt(id_vars = ['Sort/Order', 'Major area, region, country or area of destination', 'Notes', 'Country Code', 'Type of data (a)'],\n",
        "              value_vars = ['(female) (1990)',\n",
        "                            '(female) (1995)',\n",
        "                            '(female) (2000)',\n",
        "                            '(female) (2005)',\n",
        "                            '(female) (2010)',\n",
        "                            '(female) (2015)'],\n",
        "               var_name = 'Year',\n",
        "               value_name = 'Female migrants as a percentage of International Migrant Stock') #Use melt function"
      ],
      "metadata": {
        "id": "WdTF_fQd_Ptq"
      },
      "execution_count": null,
      "outputs": []
    },
    {
      "cell_type": "code",
      "source": [
        "# Now I only want to show year in the Year Column\n",
        "UN_female_percentage = (UN_female_percentage.assign(Year = lambda x: x.Year.str[9:].astype(str)))"
      ],
      "metadata": {
        "id": "Pgv0MDBK_Zp4"
      },
      "execution_count": null,
      "outputs": []
    },
    {
      "cell_type": "code",
      "source": [
        "# Separating the dataframe to 6 different dataframes according to year\n",
        "UN_female_percentage_1990 = UN_female_percentage[0:265].reset_index(drop = True)\n",
        "UN_female_percentage_1995 = UN_female_percentage[265:530].reset_index(drop = True)\n",
        "UN_female_percentage_2000 = UN_female_percentage[530:795].reset_index(drop = True)\n",
        "UN_female_percentage_2005 = UN_female_percentage[795:1060].reset_index(drop = True)\n",
        "UN_female_percentage_2010 = UN_female_percentage[1060:1325].reset_index(drop = True)\n",
        "UN_female_percentage_2015 = UN_female_percentage[1325:].reset_index(drop = True)"
      ],
      "metadata": {
        "id": "FOIV-D0iAGuw"
      },
      "execution_count": null,
      "outputs": []
    },
    {
      "cell_type": "code",
      "source": [
        "# Since we only got female percentage in this sheet, we only merge these dataframes to our UN female dataframes\n",
        "UN_1990_female = UN_1990_female.merge(UN_female_percentage_1990, on=['Sort/Order', \n",
        "                                                                                            'Major area, region, country or area of destination',\n",
        "                                                                                            'Notes',\n",
        "                                                                                            'Country Code',\n",
        "                                                                                            'Year',\n",
        "                                                                                            'Type of data (a)'])\n",
        "UN_1995_female = UN_1995_female.merge(UN_female_percentage_1995, on=['Sort/Order', \n",
        "                                                                                            'Major area, region, country or area of destination',\n",
        "                                                                                            'Notes',\n",
        "                                                                                            'Country Code',\n",
        "                                                                                            'Year',\n",
        "                                                                                            'Type of data (a)'])\n",
        "UN_2000_female = UN_2000_female.merge(UN_female_percentage_2000, on=['Sort/Order', \n",
        "                                                                                            'Major area, region, country or area of destination',\n",
        "                                                                                            'Notes',\n",
        "                                                                                            'Country Code',\n",
        "                                                                                            'Year',\n",
        "                                                                                            'Type of data (a)'])\n",
        "UN_2005_female = UN_2005_female.merge(UN_female_percentage_2005, on=['Sort/Order', \n",
        "                                                                                            'Major area, region, country or area of destination',\n",
        "                                                                                            'Notes',\n",
        "                                                                                            'Country Code',\n",
        "                                                                                            'Year',\n",
        "                                                                                            'Type of data (a)'])\n",
        "UN_2010_female = UN_2010_female.merge(UN_female_percentage_2010, on=['Sort/Order', \n",
        "                                                                                            'Major area, region, country or area of destination',\n",
        "                                                                                            'Notes',\n",
        "                                                                                            'Country Code',\n",
        "                                                                                            'Year',\n",
        "                                                                                            'Type of data (a)'])\n",
        "UN_2015_female = UN_2015_female.merge(UN_female_percentage_2015, on=['Sort/Order', \n",
        "                                                                                            'Major area, region, country or area of destination',\n",
        "                                                                                            'Notes',\n",
        "                                                                                            'Country Code',\n",
        "                                                                                            'Year',\n",
        "                                                                                            'Type of data (a)'])"
      ],
      "metadata": {
        "id": "dco0KB-kA4Fs"
      },
      "execution_count": null,
      "outputs": []
    },
    {
      "cell_type": "markdown",
      "source": [
        "**Sheet 5 Cleaning Process**"
      ],
      "metadata": {
        "id": "xwmg6PqLMmO6"
      }
    },
    {
      "cell_type": "code",
      "source": [
        "UN_table5 = pd.read_excel('/content/drive/MyDrive/INF 1340/UN Dataset.xlsx', sheet_name=5) #load data"
      ],
      "metadata": {
        "id": "zTnaqzxUDflJ"
      },
      "execution_count": null,
      "outputs": []
    },
    {
      "cell_type": "code",
      "source": [
        "UN_table5 = UN_table5.drop(index = [0, 1, 2, 3, 4, 5, 6, 7, 8, 9, 10, 11, 12, 13, 14]) # drop the rows in the green title area and contan column name"
      ],
      "metadata": {
        "id": "Z2-IZkTCNlXL"
      },
      "execution_count": null,
      "outputs": []
    },
    {
      "cell_type": "code",
      "source": [
        "UN_table5 = UN_table5.rename({'Unnamed: 0' : 'Sort/Order',\n",
        "                 'Unnamed: 1' : 'Major area, region, country or area of destination',\n",
        "                 'Unnamed: 2' : 'Notes',\n",
        "                 'Unnamed: 3' : 'Country Code',\n",
        "                 'Unnamed: 4' : 'Type of data (a)',\n",
        "                 'Unnamed: 5' : '(both sexes) (1990-1995)',\n",
        "                 'Unnamed: 6' : '(both sexes) (1995-2000)',\n",
        "                 'Unnamed: 7' : '(both sexes) (2000-2005)',\n",
        "                 'Unnamed: 8' : '(both sexes) (2005-2010)',\n",
        "                 'Unnamed: 9' : '(both sexes) (2010-2015)',\n",
        "                 'Unnamed: 10': '(male) (1990-1995)',\n",
        "                 'Unnamed: 11': '(male) (1995-2000)',\n",
        "                 'Unnamed: 12': '(male) (2000-2005)',\n",
        "                 'Unnamed: 13': '(male) (2005-2010)',\n",
        "                 'Unnamed: 14': '(male) (2010-2015)',\n",
        "                 'Unnamed: 15': '(female) (1990-1995)',\n",
        "                 'Unnamed: 16': '(female) (1995-2000)',\n",
        "                 'Unnamed: 17': '(female) (2000-2005)',\n",
        "                 'Unnamed: 18': '(female) (2005-2010)',\n",
        "                 'Unnamed: 19': '(female) (2010-2015)',}, axis = 1) # Column Renaming Process"
      ],
      "metadata": {
        "id": "tXYpY7HmN17H"
      },
      "execution_count": null,
      "outputs": []
    },
    {
      "cell_type": "code",
      "source": [
        "UN_table5 = UN_table5.fillna('') #Replace the NaN value with empty string"
      ],
      "metadata": {
        "id": "8QLaku6BN4dS"
      },
      "execution_count": null,
      "outputs": []
    },
    {
      "cell_type": "code",
      "source": [
        "UN_migrant_stock_change_both_sex = UN_table5.melt(id_vars = ['Sort/Order', 'Major area, region, country or area of destination', 'Notes', 'Country Code', 'Type of data (a)'],\n",
        "              value_vars = ['(both sexes) (1990-1995)',\n",
        "                            '(both sexes) (1995-2000)',\n",
        "                            '(both sexes) (2000-2005)',\n",
        "                            '(both sexes) (2005-2010)',\n",
        "                            '(both sexes) (2010-2015)'],\n",
        "               var_name = 'Period', #Use time period instead of year because it is rate of change in a 5-year time period\n",
        "               value_name = 'Annual rate of change of migrant stock in Period') #Use melt function to get the data of both sexes"
      ],
      "metadata": {
        "id": "S_qrIFMEO5MV"
      },
      "execution_count": null,
      "outputs": []
    },
    {
      "cell_type": "code",
      "source": [
        "UN_migrant_stock_change_male = UN_table5.melt(id_vars = ['Sort/Order', 'Major area, region, country or area of destination', 'Notes', 'Country Code', 'Type of data (a)'],\n",
        "              value_vars = ['(male) (1990-1995)',\n",
        "                            '(male) (1995-2000)',\n",
        "                            '(male) (2000-2005)',\n",
        "                            '(male) (2005-2010)',\n",
        "                            '(male) (2010-2015)'],\n",
        "               var_name = 'Period',\n",
        "               value_name = 'Annual rate of change of migrant stock in Period') #Use melt function to get the data of male"
      ],
      "metadata": {
        "id": "dx6RRXp_Q1qP"
      },
      "execution_count": null,
      "outputs": []
    },
    {
      "cell_type": "code",
      "source": [
        "UN_migrant_stock_change_female = UN_table5.melt(id_vars = ['Sort/Order', 'Major area, region, country or area of destination', 'Notes', 'Country Code', 'Type of data (a)'],\n",
        "              value_vars = ['(female) (1990-1995)',\n",
        "                            '(female) (1995-2000)',\n",
        "                            '(female) (2000-2005)',\n",
        "                            '(female) (2005-2010)',\n",
        "                            '(female) (2010-2015)'],\n",
        "               var_name = 'Period',\n",
        "               value_name = 'Annual rate of change of migrant stock in Period') #Use melth function to get the data of female"
      ],
      "metadata": {
        "id": "ay5JAryVRZit"
      },
      "execution_count": null,
      "outputs": []
    },
    {
      "cell_type": "code",
      "source": [
        "# Now I only want to show year in the Year column\n",
        "UN_migrant_stock_change_both_sex = (UN_migrant_stock_change_both_sex.assign(Period = lambda x: x.Period.str[13:].astype(str)))\n",
        "UN_migrant_stock_change_male = (UN_migrant_stock_change_male.assign(Period = lambda x: x.Period.str[7:].astype(str)))\n",
        "UN_migrant_stock_change_female = (UN_migrant_stock_change_female.assign(Period = lambda x: x.Period.str[9:].astype(str)))"
      ],
      "metadata": {
        "id": "TuBFT2PmRues"
      },
      "execution_count": null,
      "outputs": []
    },
    {
      "cell_type": "code",
      "source": [
        "# Different to previous, we only separate it to 5 different dataframes for each sex since we there is no data before 1990\n",
        "UN_migrant_stock_change_both_sex_1990_1995 = UN_migrant_stock_change_both_sex[0:265].reset_index(drop = True)\n",
        "UN_migrant_stock_change_both_sex_1995_2000 = UN_migrant_stock_change_both_sex[265:530].reset_index(drop = True)\n",
        "UN_migrant_stock_change_both_sex_2000_2005 = UN_migrant_stock_change_both_sex[530:795].reset_index(drop = True)\n",
        "UN_migrant_stock_change_both_sex_2005_2010 = UN_migrant_stock_change_both_sex[795:1060].reset_index(drop = True)\n",
        "UN_migrant_stock_change_both_sex_2010_2015 = UN_migrant_stock_change_both_sex[1060:1325].reset_index(drop = True)"
      ],
      "metadata": {
        "id": "wxhCaI4IR000"
      },
      "execution_count": null,
      "outputs": []
    },
    {
      "cell_type": "code",
      "source": [
        "UN_migrant_stock_change_male_1990_1995 = UN_migrant_stock_change_male[0:265].reset_index(drop = True)\n",
        "UN_migrant_stock_change_male_1995_2000 = UN_migrant_stock_change_male[265:530].reset_index(drop = True)\n",
        "UN_migrant_stock_change_male_2000_2005 = UN_migrant_stock_change_male[530:795].reset_index(drop = True)\n",
        "UN_migrant_stock_change_male_2005_2010 = UN_migrant_stock_change_male[795:1060].reset_index(drop = True)\n",
        "UN_migrant_stock_change_male_2010_2015 = UN_migrant_stock_change_male[1060:1325].reset_index(drop = True)"
      ],
      "metadata": {
        "id": "r31gKmv1SfRZ"
      },
      "execution_count": null,
      "outputs": []
    },
    {
      "cell_type": "code",
      "source": [
        "UN_migrant_stock_change_female_1990_1995 = UN_migrant_stock_change_female[0:265].reset_index(drop = True)\n",
        "UN_migrant_stock_change_female_1995_2000 = UN_migrant_stock_change_female[265:530].reset_index(drop = True)\n",
        "UN_migrant_stock_change_female_2000_2005 = UN_migrant_stock_change_female[530:795].reset_index(drop = True)\n",
        "UN_migrant_stock_change_female_2005_2010 = UN_migrant_stock_change_female[795:1060].reset_index(drop = True)\n",
        "UN_migrant_stock_change_female_2010_2015 = UN_migrant_stock_change_female[1060:1325].reset_index(drop = True)"
      ],
      "metadata": {
        "id": "9YMv_O9mTRl8"
      },
      "execution_count": null,
      "outputs": []
    },
    {
      "cell_type": "code",
      "source": [
        "# Since we do not have data before 1990, I choose not to merge these dataframes to the UN_1990 dataframe for female, male, both sexes\n",
        "UN_1995_female = UN_1995_female.merge(UN_migrant_stock_change_female_1990_1995, on=['Sort/Order', \n",
        "                                                                                            'Major area, region, country or area of destination',\n",
        "                                                                                            'Notes',\n",
        "                                                                                            'Country Code',\n",
        "                                                                                            'Type of data (a)'])\n",
        "UN_2000_female = UN_2000_female.merge(UN_migrant_stock_change_female_1995_2000, on=['Sort/Order', \n",
        "                                                                                            'Major area, region, country or area of destination',\n",
        "                                                                                            'Notes',\n",
        "                                                                                            'Country Code',\n",
        "                                                                                            'Type of data (a)'])\n",
        "UN_2005_female = UN_2005_female.merge(UN_migrant_stock_change_female_2000_2005, on=['Sort/Order', \n",
        "                                                                                            'Major area, region, country or area of destination',\n",
        "                                                                                            'Notes',\n",
        "                                                                                            'Country Code',\n",
        "                                                                                            'Type of data (a)'])\n",
        "UN_2010_female = UN_2010_female.merge(UN_migrant_stock_change_female_2005_2010, on=['Sort/Order', \n",
        "                                                                                            'Major area, region, country or area of destination',\n",
        "                                                                                            'Notes',\n",
        "                                                                                            'Country Code',\n",
        "                                                                                            'Type of data (a)'])\n",
        "UN_2015_female = UN_2015_female.merge(UN_migrant_stock_change_female_2010_2015, on=['Sort/Order', \n",
        "                                                                                            'Major area, region, country or area of destination',\n",
        "                                                                                            'Notes',\n",
        "                                                                                            'Country Code',\n",
        "                                                                                            'Type of data (a)'])"
      ],
      "metadata": {
        "id": "qltewP91T44o"
      },
      "execution_count": null,
      "outputs": []
    },
    {
      "cell_type": "code",
      "source": [
        "UN_1995_male = UN_1995_male.merge(UN_migrant_stock_change_male_1990_1995, on=['Sort/Order', \n",
        "                                                                                            'Major area, region, country or area of destination',\n",
        "                                                                                            'Notes',\n",
        "                                                                                            'Country Code',\n",
        "                                                                                            'Type of data (a)'])\n",
        "UN_2000_male = UN_2000_male.merge(UN_migrant_stock_change_male_1995_2000, on=['Sort/Order', \n",
        "                                                                                            'Major area, region, country or area of destination',\n",
        "                                                                                            'Notes',\n",
        "                                                                                            'Country Code',\n",
        "                                                                                            'Type of data (a)'])\n",
        "UN_2005_male = UN_2005_male.merge(UN_migrant_stock_change_male_2000_2005, on=['Sort/Order', \n",
        "                                                                                            'Major area, region, country or area of destination',\n",
        "                                                                                            'Notes',\n",
        "                                                                                            'Country Code',\n",
        "                                                                                            'Type of data (a)'])\n",
        "UN_2010_male = UN_2010_male.merge(UN_migrant_stock_change_male_2005_2010, on=['Sort/Order', \n",
        "                                                                                            'Major area, region, country or area of destination',\n",
        "                                                                                            'Notes',\n",
        "                                                                                            'Country Code',\n",
        "                                                                                            'Type of data (a)'])\n",
        "UN_2015_male = UN_2015_male.merge(UN_migrant_stock_change_male_2010_2015, on=['Sort/Order', \n",
        "                                                                                            'Major area, region, country or area of destination',\n",
        "                                                                                            'Notes',\n",
        "                                                                                            'Country Code',\n",
        "                                                                                            'Type of data (a)'])"
      ],
      "metadata": {
        "id": "UNuSzvVcT5jZ"
      },
      "execution_count": null,
      "outputs": []
    },
    {
      "cell_type": "code",
      "source": [
        "UN_1995_both_sexes = UN_1995_both_sexes.merge(UN_migrant_stock_change_both_sex_1990_1995, on=['Sort/Order', \n",
        "                                                                                            'Major area, region, country or area of destination',\n",
        "                                                                                            'Notes',\n",
        "                                                                                            'Country Code',\n",
        "                                                                                            'Type of data (a)'])\n",
        "UN_2000_both_sexes = UN_2000_both_sexes.merge(UN_migrant_stock_change_both_sex_1995_2000, on=['Sort/Order', \n",
        "                                                                                            'Major area, region, country or area of destination',\n",
        "                                                                                            'Notes',\n",
        "                                                                                            'Country Code',\n",
        "                                                                                            'Type of data (a)'])\n",
        "UN_2005_both_sexes = UN_2005_both_sexes.merge(UN_migrant_stock_change_both_sex_2000_2005, on=['Sort/Order', \n",
        "                                                                                            'Major area, region, country or area of destination',\n",
        "                                                                                            'Notes',\n",
        "                                                                                            'Country Code',\n",
        "                                                                                            'Type of data (a)'])\n",
        "UN_2010_both_sexes = UN_2010_both_sexes.merge(UN_migrant_stock_change_both_sex_2005_2010, on=['Sort/Order', \n",
        "                                                                                            'Major area, region, country or area of destination',\n",
        "                                                                                            'Notes',\n",
        "                                                                                            'Country Code',\n",
        "                                                                                            'Type of data (a)'])\n",
        "UN_2015_both_sexes = UN_2015_both_sexes.merge(UN_migrant_stock_change_both_sex_2010_2015, on=['Sort/Order', \n",
        "                                                                                            'Major area, region, country or area of destination',\n",
        "                                                                                            'Notes',\n",
        "                                                                                            'Country Code',\n",
        "                                                                                            'Type of data (a)'])"
      ],
      "metadata": {
        "id": "tJg0wjO_VWEN"
      },
      "execution_count": null,
      "outputs": []
    },
    {
      "cell_type": "markdown",
      "source": [
        "**Sheet 6 Cleaning process**"
      ],
      "metadata": {
        "id": "jbqEKq5eRYNA"
      }
    },
    {
      "cell_type": "code",
      "source": [
        "UN_table6 = pd.read_excel('/content/drive/MyDrive/INF 1340/UN Dataset.xlsx', sheet_name=6) #load the sixth sheet"
      ],
      "metadata": {
        "id": "srwczHl4YrD1"
      },
      "execution_count": null,
      "outputs": []
    },
    {
      "cell_type": "code",
      "source": [
        "UN_table6 = UN_table6.drop(index = [0, 1, 2, 3, 4, 5, 6, 7, 8, 9, 10, 11, 12, 13, 14]) # drop the rows in the green title area and contain column name"
      ],
      "metadata": {
        "id": "pgvDpDj6Rmae"
      },
      "execution_count": null,
      "outputs": []
    },
    {
      "cell_type": "code",
      "source": [
        "UN_table6 = UN_table6.rename({'Unnamed: 0' : 'Sort/Order',\n",
        "                 'Unnamed: 1' : 'Major area, region, country or area of destination',\n",
        "                 'Unnamed: 2' : 'Notes',\n",
        "                 'Unnamed: 3' : 'Country Code',\n",
        "                 'Unnamed: 4' : 'Type of data (a)',\n",
        "                 'Unnamed: 5' : 'Estimated Refugee stock (1990)',\n",
        "                 'Unnamed: 6' : 'Estimated Refugee stock (1995)',\n",
        "                 'Unnamed: 7' : 'Estimated Refugee stock (2000)',\n",
        "                 'Unnamed: 8' : 'Estimated Refugee stock (2005)',\n",
        "                 'Unnamed: 9' : 'Estimated Refugee stock (2010)',\n",
        "                 'Unnamed: 10': 'Estimated Refugee stock (2015)',\n",
        "                 'Unnamed: 11': 'Refugees as a percentage of the international migrant stock (1990)',\n",
        "                 'Unnamed: 12': 'Refugees as a percentage of the international migrant stock (1995)',\n",
        "                 'Unnamed: 13': 'Refugees as a percentage of the international migrant stock (2000)',\n",
        "                 'Unnamed: 14': 'Refugees as a percentage of the international migrant stock (2005)',\n",
        "                 'Unnamed: 15': 'Refugees as a percentage of the international migrant stock (2010)',\n",
        "                 'Unnamed: 16': 'Refugees as a percentage of the international migrant stock (2015)',\n",
        "                 'Unnamed: 17': 'Annual Rate of change of the refugee stock (1990-1995)',\n",
        "                 'Unnamed: 18': 'Annual Rate of change of the refugee stock (1995-2000)',\n",
        "                 'Unnamed: 19': 'Annual Rate of change of the refugee stock (2000-2005)',\n",
        "                 'Unnamed: 20': 'Annual Rate of change of the refugee stock (2005-2010)',\n",
        "                 'Unnamed: 21': 'Annual Rate of change of the refugee stock (2010-2015)'}, axis = 1) # Column Renaming Process"
      ],
      "metadata": {
        "id": "QTZhAAjgRq13"
      },
      "execution_count": null,
      "outputs": []
    },
    {
      "cell_type": "code",
      "source": [
        "UN_table6 = UN_table6.fillna('') #Replace the NaN value with empty string"
      ],
      "metadata": {
        "id": "IaDsOA-JS-Dc"
      },
      "execution_count": null,
      "outputs": []
    },
    {
      "cell_type": "code",
      "source": [
        "UN_refugee_stock = UN_table6.melt(id_vars = ['Sort/Order', 'Major area, region, country or area of destination', 'Notes', 'Country Code', 'Type of data (a)'],\n",
        "              value_vars = ['Estimated Refugee stock (1990)',\n",
        "                            'Estimated Refugee stock (1995)',\n",
        "                            'Estimated Refugee stock (2000)',\n",
        "                            'Estimated Refugee stock (2005)',\n",
        "                            'Estimated Refugee stock (2010)',\n",
        "                            'Estimated Refugee stock (2015)'],\n",
        "               var_name = 'Year',\n",
        "               value_name = 'Estimated Refugee Stock') #Use melt function to get the data of refugee stock"
      ],
      "metadata": {
        "id": "5i4Lw9bLTHLU"
      },
      "execution_count": null,
      "outputs": []
    },
    {
      "cell_type": "code",
      "source": [
        "UN_refugee_percentage_migrant = UN_table6.melt(id_vars = ['Sort/Order', 'Major area, region, country or area of destination', 'Notes', 'Country Code', 'Type of data (a)'],\n",
        "              value_vars = ['Refugees as a percentage of the international migrant stock (1990)',\n",
        "                            'Refugees as a percentage of the international migrant stock (1995)',\n",
        "                            'Refugees as a percentage of the international migrant stock (2000)',\n",
        "                            'Refugees as a percentage of the international migrant stock (2005)',\n",
        "                            'Refugees as a percentage of the international migrant stock (2010)',\n",
        "                            'Refugees as a percentage of the international migrant stock (2015)'],\n",
        "               var_name = 'Year',\n",
        "               value_name = 'Refugees as a percentage of the international migrant stock') #Use melt function to get the data of refugee stock"
      ],
      "metadata": {
        "id": "fZ49Idk7Twhu"
      },
      "execution_count": null,
      "outputs": []
    },
    {
      "cell_type": "code",
      "source": [
        "UN_refugee_change = UN_table6.melt(id_vars = ['Sort/Order', 'Major area, region, country or area of destination', 'Notes', 'Country Code', 'Type of data (a)'],\n",
        "              value_vars = ['Annual Rate of change of the refugee stock (1990-1995)',\n",
        "                            'Annual Rate of change of the refugee stock (1995-2000)',\n",
        "                            'Annual Rate of change of the refugee stock (2000-2005)',\n",
        "                            'Annual Rate of change of the refugee stock (2005-2010)',\n",
        "                            'Annual Rate of change of the refugee stock (2010-2015)'],\n",
        "               var_name = 'Period',\n",
        "               value_name = 'Annual Rate of Percentage of the Refugee stock in the period') #Use melt function to get the data of refugee stock"
      ],
      "metadata": {
        "id": "ldC8JKPHTxft"
      },
      "execution_count": null,
      "outputs": []
    },
    {
      "cell_type": "code",
      "source": [
        "# Now I only want to show year and Period in the Year column\n",
        "UN_refugee_stock = (UN_refugee_stock.assign(Year = lambda x: x.Year.str[24:].astype(str)))\n",
        "UN_refugee_percentage_migrant = (UN_refugee_percentage_migrant.assign(Year = lambda x: x.Year.str[60:].astype(str)))\n",
        "UN_refugee_change = (UN_refugee_change.assign(Period = lambda x: x.Period.str[43:].astype(str)))"
      ],
      "metadata": {
        "id": "q-k-vyUaUfY6"
      },
      "execution_count": null,
      "outputs": []
    },
    {
      "cell_type": "code",
      "source": [
        "# Separate it to six different dataframes of different years\n",
        "UN_refugee_stock_1990 = UN_refugee_stock[0:265].reset_index(drop = True)\n",
        "UN_refugee_stock_1995 = UN_refugee_stock[265:530].reset_index(drop = True)\n",
        "UN_refugee_stock_2000 = UN_refugee_stock[530:795].reset_index(drop = True)\n",
        "UN_refugee_stock_2005 = UN_refugee_stock[795:1060].reset_index(drop = True)\n",
        "UN_refugee_stock_2010 = UN_refugee_stock[1060:1325].reset_index(drop = True)\n",
        "UN_refugee_stock_2015 = UN_refugee_stock[1325:].reset_index(drop = True)"
      ],
      "metadata": {
        "id": "nfe6N0tzVAC_"
      },
      "execution_count": null,
      "outputs": []
    },
    {
      "cell_type": "code",
      "source": [
        "# Separate it to six different dataframes of different years\n",
        "UN_refugee_percentage_migrant_1990 = UN_refugee_percentage_migrant[0:265].reset_index(drop = True)\n",
        "UN_refugee_percentage_migrant_1995 = UN_refugee_percentage_migrant[265:530].reset_index(drop = True)\n",
        "UN_refugee_percentage_migrant_2000 = UN_refugee_percentage_migrant[530:795].reset_index(drop = True)\n",
        "UN_refugee_percentage_migrant_2005 = UN_refugee_percentage_migrant[795:1060].reset_index(drop = True)\n",
        "UN_refugee_percentage_migrant_2010 = UN_refugee_percentage_migrant[1060:1325].reset_index(drop = True)\n",
        "UN_refugee_percentage_migrant_2015 = UN_refugee_percentage_migrant[1325:].reset_index(drop = True)"
      ],
      "metadata": {
        "id": "jO92vxj-WOJM"
      },
      "execution_count": null,
      "outputs": []
    },
    {
      "cell_type": "code",
      "source": [
        "# Separate it to five different dataframes of different period\n",
        "UN_refugee_change_1990_1995 = UN_refugee_change[0:265].reset_index(drop = True)\n",
        "UN_refugee_change_1995_2000 = UN_refugee_change[265:530].reset_index(drop = True)\n",
        "UN_refugee_change_2000_2005 = UN_refugee_change[530:795].reset_index(drop = True)\n",
        "UN_refugee_change_2005_2010 = UN_refugee_change[795:1060].reset_index(drop = True)\n",
        "UN_refugee_change_2010_2015 = UN_refugee_change[1060:1325].reset_index(drop = True)"
      ],
      "metadata": {
        "id": "kCHt4hiEWuan"
      },
      "execution_count": null,
      "outputs": []
    },
    {
      "cell_type": "code",
      "source": [
        "#Since these data are based on both sexes, I only merge these data to our UN both sexes dataframes\n",
        "UN_1990_both_sexes = UN_1990_both_sexes.merge(UN_refugee_stock_1990, on=['Sort/Order', \n",
        "                                                                                            'Major area, region, country or area of destination',\n",
        "                                                                                            'Notes',\n",
        "                                                                                            'Country Code',\n",
        "                                                                                            'Year',\n",
        "                                                                                            'Type of data (a)'])\n",
        "UN_1995_both_sexes = UN_1995_both_sexes.merge(UN_refugee_stock_1995, on=['Sort/Order', \n",
        "                                                                                            'Major area, region, country or area of destination',\n",
        "                                                                                            'Notes',\n",
        "                                                                                            'Country Code',\n",
        "                                                                                            'Year',\n",
        "                                                                                            'Type of data (a)'])\n",
        "UN_2000_both_sexes = UN_2000_both_sexes.merge(UN_refugee_stock_2000, on=['Sort/Order', \n",
        "                                                                                            'Major area, region, country or area of destination',\n",
        "                                                                                            'Notes',\n",
        "                                                                                            'Country Code',\n",
        "                                                                                            'Year',\n",
        "                                                                                            'Type of data (a)'])\n",
        "UN_2005_both_sexes = UN_2005_both_sexes.merge(UN_refugee_stock_2005, on=['Sort/Order', \n",
        "                                                                                            'Major area, region, country or area of destination',\n",
        "                                                                                            'Notes',\n",
        "                                                                                            'Country Code',\n",
        "                                                                                            'Year',\n",
        "                                                                                            'Type of data (a)'])\n",
        "UN_2010_both_sexes = UN_2010_both_sexes.merge(UN_refugee_stock_2010, on=['Sort/Order', \n",
        "                                                                                            'Major area, region, country or area of destination',\n",
        "                                                                                            'Notes',\n",
        "                                                                                            'Country Code',\n",
        "                                                                                            'Year',\n",
        "                                                                                            'Type of data (a)'])\n",
        "UN_2015_both_sexes = UN_2015_both_sexes.merge(UN_refugee_stock_2015, on=['Sort/Order', \n",
        "                                                                                            'Major area, region, country or area of destination',\n",
        "                                                                                            'Notes',\n",
        "                                                                                            'Country Code',\n",
        "                                                                                            'Year',\n",
        "                                                                                            'Type of data (a)'])"
      ],
      "metadata": {
        "id": "bB5ugtaWagV9"
      },
      "execution_count": null,
      "outputs": []
    },
    {
      "cell_type": "code",
      "source": [
        "UN_1990_both_sexes = UN_1990_both_sexes.merge(UN_refugee_percentage_migrant_1990, on=['Sort/Order', \n",
        "                                                                                            'Major area, region, country or area of destination',\n",
        "                                                                                            'Notes',\n",
        "                                                                                            'Country Code',\n",
        "                                                                                            'Year',\n",
        "                                                                                            'Type of data (a)'])\n",
        "UN_1995_both_sexes = UN_1995_both_sexes.merge(UN_refugee_percentage_migrant_1995, on=['Sort/Order', \n",
        "                                                                                            'Major area, region, country or area of destination',\n",
        "                                                                                            'Notes',\n",
        "                                                                                            'Country Code',\n",
        "                                                                                            'Year',\n",
        "                                                                                            'Type of data (a)'])\n",
        "UN_2000_both_sexes = UN_2000_both_sexes.merge(UN_refugee_percentage_migrant_2000, on=['Sort/Order', \n",
        "                                                                                            'Major area, region, country or area of destination',\n",
        "                                                                                            'Notes',\n",
        "                                                                                            'Country Code',\n",
        "                                                                                            'Year',\n",
        "                                                                                            'Type of data (a)'])\n",
        "UN_2005_both_sexes = UN_2005_both_sexes.merge(UN_refugee_percentage_migrant_2005, on=['Sort/Order', \n",
        "                                                                                            'Major area, region, country or area of destination',\n",
        "                                                                                            'Notes',\n",
        "                                                                                            'Country Code',\n",
        "                                                                                            'Year',\n",
        "                                                                                            'Type of data (a)'])\n",
        "UN_2010_both_sexes = UN_2010_both_sexes.merge(UN_refugee_percentage_migrant_2010, on=['Sort/Order', \n",
        "                                                                                            'Major area, region, country or area of destination',\n",
        "                                                                                            'Notes',\n",
        "                                                                                            'Country Code',\n",
        "                                                                                            'Year',\n",
        "                                                                                            'Type of data (a)'])\n",
        "UN_2015_both_sexes = UN_2015_both_sexes.merge(UN_refugee_percentage_migrant_2015, on=['Sort/Order', \n",
        "                                                                                            'Major area, region, country or area of destination',\n",
        "                                                                                            'Notes',\n",
        "                                                                                            'Country Code',\n",
        "                                                                                            'Year',\n",
        "                                                                                            'Type of data (a)'])"
      ],
      "metadata": {
        "id": "GnoV9wqczZNy"
      },
      "execution_count": null,
      "outputs": []
    },
    {
      "cell_type": "code",
      "source": [
        "UN_1995_both_sexes = UN_1995_both_sexes.merge(UN_refugee_change_1990_1995, on=['Sort/Order', \n",
        "                                                                                            'Major area, region, country or area of destination',\n",
        "                                                                                            'Notes',\n",
        "                                                                                            'Country Code',\n",
        "                                                                                            'Period',\n",
        "                                                                                            'Type of data (a)'])\n",
        "UN_2000_both_sexes = UN_2000_both_sexes.merge(UN_refugee_change_1995_2000, on=['Sort/Order', \n",
        "                                                                                            'Major area, region, country or area of destination',\n",
        "                                                                                            'Notes',\n",
        "                                                                                            'Country Code',\n",
        "                                                                                            'Period',\n",
        "                                                                                            'Type of data (a)'])\n",
        "UN_2005_both_sexes = UN_2005_both_sexes.merge(UN_refugee_change_2000_2005, on=['Sort/Order', \n",
        "                                                                                            'Major area, region, country or area of destination',\n",
        "                                                                                            'Notes',\n",
        "                                                                                            'Country Code',\n",
        "                                                                                            'Period',\n",
        "                                                                                            'Type of data (a)'])\n",
        "UN_2010_both_sexes = UN_2010_both_sexes.merge(UN_refugee_change_2005_2010, on=['Sort/Order', \n",
        "                                                                                            'Major area, region, country or area of destination',\n",
        "                                                                                            'Notes',\n",
        "                                                                                            'Country Code',\n",
        "                                                                                            'Period',\n",
        "                                                                                            'Type of data (a)'])\n",
        "UN_2015_both_sexes = UN_2015_both_sexes.merge(UN_refugee_change_2010_2015, on=['Sort/Order', \n",
        "                                                                                            'Major area, region, country or area of destination',\n",
        "                                                                                            'Notes',\n",
        "                                                                                            'Country Code',\n",
        "                                                                                            'Period',\n",
        "                                                                                            'Type of data (a)'])"
      ],
      "metadata": {
        "id": "23QVGQkzeWBr"
      },
      "execution_count": null,
      "outputs": []
    },
    {
      "cell_type": "code",
      "source": [
        "UN_2015_both_sexes"
      ],
      "metadata": {
        "colab": {
          "base_uri": "https://localhost:8080/",
          "height": 693
        },
        "id": "t6XI5bXz0E_8",
        "outputId": "0458ea16-d69a-419d-9ef8-3bf5898e0ae5"
      },
      "execution_count": null,
      "outputs": [
        {
          "output_type": "execute_result",
          "data": {
            "text/plain": [
              "     Sort/Order Major area, region, country or area of destination Notes  \\\n",
              "0             1                                              WORLD         \n",
              "1             2                                  Developed regions   (b)   \n",
              "2             3                                 Developing regions   (c)   \n",
              "3             4                          Least developed countries   (d)   \n",
              "4             5  Less developed regions excluding least develop...         \n",
              "..          ...                                                ...   ...   \n",
              "260         261                                              Samoa         \n",
              "261         262                                            Tokelau         \n",
              "262         263                                              Tonga         \n",
              "263         264                                             Tuvalu         \n",
              "264         265                          Wallis and Futuna Islands         \n",
              "\n",
              "     Country Code Type of data (a)    Year International migrant stock  \\\n",
              "0             900                   (2015)                 243700236.0   \n",
              "1             901                   (2015)                 140481955.0   \n",
              "2             902                   (2015)                 103218281.0   \n",
              "3             941                   (2015)                  11951316.0   \n",
              "4             934                   (2015)                  91262036.0   \n",
              "..            ...              ...     ...                         ...   \n",
              "260           882                B  (2015)                      4929.0   \n",
              "261           772                B  (2015)                       487.0   \n",
              "262           776                B  (2015)                      5731.0   \n",
              "263           798                C  (2015)                       141.0   \n",
              "264           876                B  (2015)                      2849.0   \n",
              "\n",
              "     Total Population at Mid-year  \\\n",
              "0                     7349472.099   \n",
              "1                     1251351.086   \n",
              "2                     6098121.013   \n",
              "3                      954157.804   \n",
              "4                     5143963.209   \n",
              "..                            ...   \n",
              "260                       193.228   \n",
              "261                         1.250   \n",
              "262                       106.170   \n",
              "263                         9.916   \n",
              "264                        13.151   \n",
              "\n",
              "    International migrant stock as a percentage of total population  \\\n",
              "0                                             3.315888                \n",
              "1                                            11.226422                \n",
              "2                                             1.692624                \n",
              "3                                             1.252551                \n",
              "4                                             1.774158                \n",
              "..                                                 ...                \n",
              "260                                           2.550873                \n",
              "261                                              38.96                \n",
              "262                                           5.397947                \n",
              "263                                           1.421944                \n",
              "264                                          21.663752                \n",
              "\n",
              "          Period Annual rate of change of migrant stock in Period  \\\n",
              "0    (2010-2015)                                         1.890991   \n",
              "1    (2010-2015)                                         1.160824   \n",
              "2    (2010-2015)                                         2.929634   \n",
              "3    (2010-2015)                                         3.526927   \n",
              "4    (2010-2015)                                         2.852687   \n",
              "..           ...                                              ...   \n",
              "260  (2010-2015)                                        -0.768177   \n",
              "261  (2010-2015)                                         2.536144   \n",
              "262  (2010-2015)                                         2.641235   \n",
              "263  (2010-2015)                                        -1.763854   \n",
              "264  (2010-2015)                                          0.51914   \n",
              "\n",
              "    Estimated Refugee Stock  \\\n",
              "0                19577474.0   \n",
              "1                 1954224.0   \n",
              "2                17623250.0   \n",
              "3                 3443582.0   \n",
              "4                14179668.0   \n",
              "..                      ...   \n",
              "260                     0.0   \n",
              "261                     0.0   \n",
              "262                     0.0   \n",
              "263                     0.0   \n",
              "264                     0.0   \n",
              "\n",
              "    Refugees as a percentage of the international migrant stock  \\\n",
              "0                                             8.033424            \n",
              "1                                             1.391085            \n",
              "2                                            17.073768            \n",
              "3                                            28.801534            \n",
              "4                                            15.537313            \n",
              "..                                                 ...            \n",
              "260                                                0.0            \n",
              "261                                                0.0            \n",
              "262                                                0.0            \n",
              "263                                                0.0            \n",
              "264                                                0.0            \n",
              "\n",
              "    Annual Rate of Percentage of the Refugee stock in the period  \n",
              "0                                             2.947267            \n",
              "1                                            -2.087656            \n",
              "2                                             2.663652            \n",
              "3                                             7.766031            \n",
              "4                                             1.571047            \n",
              "..                                                 ...            \n",
              "260                                                 ..            \n",
              "261                                                 ..            \n",
              "262                                                 ..            \n",
              "263                                                 ..            \n",
              "264                                                 ..            \n",
              "\n",
              "[265 rows x 14 columns]"
            ],
            "text/html": [
              "\n",
              "  <div id=\"df-17680aa2-2fe5-4530-a72b-b612899dafe7\">\n",
              "    <div class=\"colab-df-container\">\n",
              "      <div>\n",
              "<style scoped>\n",
              "    .dataframe tbody tr th:only-of-type {\n",
              "        vertical-align: middle;\n",
              "    }\n",
              "\n",
              "    .dataframe tbody tr th {\n",
              "        vertical-align: top;\n",
              "    }\n",
              "\n",
              "    .dataframe thead th {\n",
              "        text-align: right;\n",
              "    }\n",
              "</style>\n",
              "<table border=\"1\" class=\"dataframe\">\n",
              "  <thead>\n",
              "    <tr style=\"text-align: right;\">\n",
              "      <th></th>\n",
              "      <th>Sort/Order</th>\n",
              "      <th>Major area, region, country or area of destination</th>\n",
              "      <th>Notes</th>\n",
              "      <th>Country Code</th>\n",
              "      <th>Type of data (a)</th>\n",
              "      <th>Year</th>\n",
              "      <th>International migrant stock</th>\n",
              "      <th>Total Population at Mid-year</th>\n",
              "      <th>International migrant stock as a percentage of total population</th>\n",
              "      <th>Period</th>\n",
              "      <th>Annual rate of change of migrant stock in Period</th>\n",
              "      <th>Estimated Refugee Stock</th>\n",
              "      <th>Refugees as a percentage of the international migrant stock</th>\n",
              "      <th>Annual Rate of Percentage of the Refugee stock in the period</th>\n",
              "    </tr>\n",
              "  </thead>\n",
              "  <tbody>\n",
              "    <tr>\n",
              "      <th>0</th>\n",
              "      <td>1</td>\n",
              "      <td>WORLD</td>\n",
              "      <td></td>\n",
              "      <td>900</td>\n",
              "      <td></td>\n",
              "      <td>(2015)</td>\n",
              "      <td>243700236.0</td>\n",
              "      <td>7349472.099</td>\n",
              "      <td>3.315888</td>\n",
              "      <td>(2010-2015)</td>\n",
              "      <td>1.890991</td>\n",
              "      <td>19577474.0</td>\n",
              "      <td>8.033424</td>\n",
              "      <td>2.947267</td>\n",
              "    </tr>\n",
              "    <tr>\n",
              "      <th>1</th>\n",
              "      <td>2</td>\n",
              "      <td>Developed regions</td>\n",
              "      <td>(b)</td>\n",
              "      <td>901</td>\n",
              "      <td></td>\n",
              "      <td>(2015)</td>\n",
              "      <td>140481955.0</td>\n",
              "      <td>1251351.086</td>\n",
              "      <td>11.226422</td>\n",
              "      <td>(2010-2015)</td>\n",
              "      <td>1.160824</td>\n",
              "      <td>1954224.0</td>\n",
              "      <td>1.391085</td>\n",
              "      <td>-2.087656</td>\n",
              "    </tr>\n",
              "    <tr>\n",
              "      <th>2</th>\n",
              "      <td>3</td>\n",
              "      <td>Developing regions</td>\n",
              "      <td>(c)</td>\n",
              "      <td>902</td>\n",
              "      <td></td>\n",
              "      <td>(2015)</td>\n",
              "      <td>103218281.0</td>\n",
              "      <td>6098121.013</td>\n",
              "      <td>1.692624</td>\n",
              "      <td>(2010-2015)</td>\n",
              "      <td>2.929634</td>\n",
              "      <td>17623250.0</td>\n",
              "      <td>17.073768</td>\n",
              "      <td>2.663652</td>\n",
              "    </tr>\n",
              "    <tr>\n",
              "      <th>3</th>\n",
              "      <td>4</td>\n",
              "      <td>Least developed countries</td>\n",
              "      <td>(d)</td>\n",
              "      <td>941</td>\n",
              "      <td></td>\n",
              "      <td>(2015)</td>\n",
              "      <td>11951316.0</td>\n",
              "      <td>954157.804</td>\n",
              "      <td>1.252551</td>\n",
              "      <td>(2010-2015)</td>\n",
              "      <td>3.526927</td>\n",
              "      <td>3443582.0</td>\n",
              "      <td>28.801534</td>\n",
              "      <td>7.766031</td>\n",
              "    </tr>\n",
              "    <tr>\n",
              "      <th>4</th>\n",
              "      <td>5</td>\n",
              "      <td>Less developed regions excluding least develop...</td>\n",
              "      <td></td>\n",
              "      <td>934</td>\n",
              "      <td></td>\n",
              "      <td>(2015)</td>\n",
              "      <td>91262036.0</td>\n",
              "      <td>5143963.209</td>\n",
              "      <td>1.774158</td>\n",
              "      <td>(2010-2015)</td>\n",
              "      <td>2.852687</td>\n",
              "      <td>14179668.0</td>\n",
              "      <td>15.537313</td>\n",
              "      <td>1.571047</td>\n",
              "    </tr>\n",
              "    <tr>\n",
              "      <th>...</th>\n",
              "      <td>...</td>\n",
              "      <td>...</td>\n",
              "      <td>...</td>\n",
              "      <td>...</td>\n",
              "      <td>...</td>\n",
              "      <td>...</td>\n",
              "      <td>...</td>\n",
              "      <td>...</td>\n",
              "      <td>...</td>\n",
              "      <td>...</td>\n",
              "      <td>...</td>\n",
              "      <td>...</td>\n",
              "      <td>...</td>\n",
              "      <td>...</td>\n",
              "    </tr>\n",
              "    <tr>\n",
              "      <th>260</th>\n",
              "      <td>261</td>\n",
              "      <td>Samoa</td>\n",
              "      <td></td>\n",
              "      <td>882</td>\n",
              "      <td>B</td>\n",
              "      <td>(2015)</td>\n",
              "      <td>4929.0</td>\n",
              "      <td>193.228</td>\n",
              "      <td>2.550873</td>\n",
              "      <td>(2010-2015)</td>\n",
              "      <td>-0.768177</td>\n",
              "      <td>0.0</td>\n",
              "      <td>0.0</td>\n",
              "      <td>..</td>\n",
              "    </tr>\n",
              "    <tr>\n",
              "      <th>261</th>\n",
              "      <td>262</td>\n",
              "      <td>Tokelau</td>\n",
              "      <td></td>\n",
              "      <td>772</td>\n",
              "      <td>B</td>\n",
              "      <td>(2015)</td>\n",
              "      <td>487.0</td>\n",
              "      <td>1.250</td>\n",
              "      <td>38.96</td>\n",
              "      <td>(2010-2015)</td>\n",
              "      <td>2.536144</td>\n",
              "      <td>0.0</td>\n",
              "      <td>0.0</td>\n",
              "      <td>..</td>\n",
              "    </tr>\n",
              "    <tr>\n",
              "      <th>262</th>\n",
              "      <td>263</td>\n",
              "      <td>Tonga</td>\n",
              "      <td></td>\n",
              "      <td>776</td>\n",
              "      <td>B</td>\n",
              "      <td>(2015)</td>\n",
              "      <td>5731.0</td>\n",
              "      <td>106.170</td>\n",
              "      <td>5.397947</td>\n",
              "      <td>(2010-2015)</td>\n",
              "      <td>2.641235</td>\n",
              "      <td>0.0</td>\n",
              "      <td>0.0</td>\n",
              "      <td>..</td>\n",
              "    </tr>\n",
              "    <tr>\n",
              "      <th>263</th>\n",
              "      <td>264</td>\n",
              "      <td>Tuvalu</td>\n",
              "      <td></td>\n",
              "      <td>798</td>\n",
              "      <td>C</td>\n",
              "      <td>(2015)</td>\n",
              "      <td>141.0</td>\n",
              "      <td>9.916</td>\n",
              "      <td>1.421944</td>\n",
              "      <td>(2010-2015)</td>\n",
              "      <td>-1.763854</td>\n",
              "      <td>0.0</td>\n",
              "      <td>0.0</td>\n",
              "      <td>..</td>\n",
              "    </tr>\n",
              "    <tr>\n",
              "      <th>264</th>\n",
              "      <td>265</td>\n",
              "      <td>Wallis and Futuna Islands</td>\n",
              "      <td></td>\n",
              "      <td>876</td>\n",
              "      <td>B</td>\n",
              "      <td>(2015)</td>\n",
              "      <td>2849.0</td>\n",
              "      <td>13.151</td>\n",
              "      <td>21.663752</td>\n",
              "      <td>(2010-2015)</td>\n",
              "      <td>0.51914</td>\n",
              "      <td>0.0</td>\n",
              "      <td>0.0</td>\n",
              "      <td>..</td>\n",
              "    </tr>\n",
              "  </tbody>\n",
              "</table>\n",
              "<p>265 rows × 14 columns</p>\n",
              "</div>\n",
              "      <button class=\"colab-df-convert\" onclick=\"convertToInteractive('df-17680aa2-2fe5-4530-a72b-b612899dafe7')\"\n",
              "              title=\"Convert this dataframe to an interactive table.\"\n",
              "              style=\"display:none;\">\n",
              "        \n",
              "  <svg xmlns=\"http://www.w3.org/2000/svg\" height=\"24px\"viewBox=\"0 0 24 24\"\n",
              "       width=\"24px\">\n",
              "    <path d=\"M0 0h24v24H0V0z\" fill=\"none\"/>\n",
              "    <path d=\"M18.56 5.44l.94 2.06.94-2.06 2.06-.94-2.06-.94-.94-2.06-.94 2.06-2.06.94zm-11 1L8.5 8.5l.94-2.06 2.06-.94-2.06-.94L8.5 2.5l-.94 2.06-2.06.94zm10 10l.94 2.06.94-2.06 2.06-.94-2.06-.94-.94-2.06-.94 2.06-2.06.94z\"/><path d=\"M17.41 7.96l-1.37-1.37c-.4-.4-.92-.59-1.43-.59-.52 0-1.04.2-1.43.59L10.3 9.45l-7.72 7.72c-.78.78-.78 2.05 0 2.83L4 21.41c.39.39.9.59 1.41.59.51 0 1.02-.2 1.41-.59l7.78-7.78 2.81-2.81c.8-.78.8-2.07 0-2.86zM5.41 20L4 18.59l7.72-7.72 1.47 1.35L5.41 20z\"/>\n",
              "  </svg>\n",
              "      </button>\n",
              "      \n",
              "  <style>\n",
              "    .colab-df-container {\n",
              "      display:flex;\n",
              "      flex-wrap:wrap;\n",
              "      gap: 12px;\n",
              "    }\n",
              "\n",
              "    .colab-df-convert {\n",
              "      background-color: #E8F0FE;\n",
              "      border: none;\n",
              "      border-radius: 50%;\n",
              "      cursor: pointer;\n",
              "      display: none;\n",
              "      fill: #1967D2;\n",
              "      height: 32px;\n",
              "      padding: 0 0 0 0;\n",
              "      width: 32px;\n",
              "    }\n",
              "\n",
              "    .colab-df-convert:hover {\n",
              "      background-color: #E2EBFA;\n",
              "      box-shadow: 0px 1px 2px rgba(60, 64, 67, 0.3), 0px 1px 3px 1px rgba(60, 64, 67, 0.15);\n",
              "      fill: #174EA6;\n",
              "    }\n",
              "\n",
              "    [theme=dark] .colab-df-convert {\n",
              "      background-color: #3B4455;\n",
              "      fill: #D2E3FC;\n",
              "    }\n",
              "\n",
              "    [theme=dark] .colab-df-convert:hover {\n",
              "      background-color: #434B5C;\n",
              "      box-shadow: 0px 1px 3px 1px rgba(0, 0, 0, 0.15);\n",
              "      filter: drop-shadow(0px 1px 2px rgba(0, 0, 0, 0.3));\n",
              "      fill: #FFFFFF;\n",
              "    }\n",
              "  </style>\n",
              "\n",
              "      <script>\n",
              "        const buttonEl =\n",
              "          document.querySelector('#df-17680aa2-2fe5-4530-a72b-b612899dafe7 button.colab-df-convert');\n",
              "        buttonEl.style.display =\n",
              "          google.colab.kernel.accessAllowed ? 'block' : 'none';\n",
              "\n",
              "        async function convertToInteractive(key) {\n",
              "          const element = document.querySelector('#df-17680aa2-2fe5-4530-a72b-b612899dafe7');\n",
              "          const dataTable =\n",
              "            await google.colab.kernel.invokeFunction('convertToInteractive',\n",
              "                                                     [key], {});\n",
              "          if (!dataTable) return;\n",
              "\n",
              "          const docLinkHtml = 'Like what you see? Visit the ' +\n",
              "            '<a target=\"_blank\" href=https://colab.research.google.com/notebooks/data_table.ipynb>data table notebook</a>'\n",
              "            + ' to learn more about interactive tables.';\n",
              "          element.innerHTML = '';\n",
              "          dataTable['output_type'] = 'display_data';\n",
              "          await google.colab.output.renderOutput(dataTable, element);\n",
              "          const docLink = document.createElement('div');\n",
              "          docLink.innerHTML = docLinkHtml;\n",
              "          element.appendChild(docLink);\n",
              "        }\n",
              "      </script>\n",
              "    </div>\n",
              "  </div>\n",
              "  "
            ]
          },
          "metadata": {},
          "execution_count": 1992
        }
      ]
    }
  ]
}